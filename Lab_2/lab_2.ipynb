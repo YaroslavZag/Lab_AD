{
 "cells": [
  {
   "cell_type": "markdown",
   "metadata": {},
   "source": [
    "# Засоби підготовки та аналізу даних\n",
    "### ФБ-22 Загородній Ярослав\n",
    "##### Лаболаторна робота №2"
   ]
  },
  {
   "cell_type": "code",
   "execution_count": 2,
   "metadata": {},
   "outputs": [],
   "source": [
    "import pandas as pd\n",
    "import urllib.request\n",
    "from datetime import datetime\n",
    "import os\n",
    "from datetime import datetime, date\n",
    "import csv"
   ]
  },
  {
   "cell_type": "code",
   "execution_count": 4,
   "metadata": {},
   "outputs": [],
   "source": [
    "Dir = 'CSV_Files'\n",
    "Url = ('https://www.star.nesdis.noaa.gov/smcd/emb/vci/VH/get_TS_admin.php?country=UKR&provinceID={''}&year1=1981&year2=2024&type=Mean')\n",
    "Indexes= {1: 24, 2: 25, 3: 5, 4: 6, 5: 27, 6: 23, 7: 26, 8: 7, 9: 11, 10: 13, 11: 14, 12: 15, 13: 16, 14: 17, 15: 18, 16: 19, 17: 21, 18: 22, 19: 8, 20: 9, 21: 10, 22: 1, 23: 3, 24: 2, 25: 4, 26: 20, 27: 12}\n",
    "\n",
    "if not os.path.exists(Dir):\n",
    "    os.makedirs(Dir)"
   ]
  },
  {
   "cell_type": "code",
   "execution_count": 5,
   "metadata": {},
   "outputs": [
    {
     "name": "stdout",
     "output_type": "stream",
     "text": [
      "File for 1 created: NOAA_1_20240326181753.csv\n",
      "File for 2 created: NOAA_2_20240326181754.csv\n",
      "File for 3 created: NOAA_3_20240326181755.csv\n",
      "File for 4 created: NOAA_4_20240326181756.csv\n",
      "File for 5 created: NOAA_5_20240326181757.csv\n",
      "File for 6 created: NOAA_6_20240326181757.csv\n",
      "File for 7 created: NOAA_7_20240326181758.csv\n",
      "File for 8 created: NOAA_8_20240326181759.csv\n",
      "File for 9 created: NOAA_9_20240326181800.csv\n",
      "File for 10 created: NOAA_10_20240326181801.csv\n",
      "File for 11 created: NOAA_11_20240326181802.csv\n",
      "File for 12 created: NOAA_12_20240326181803.csv\n",
      "File for 13 created: NOAA_13_20240326181804.csv\n",
      "File for 14 created: NOAA_14_20240326181805.csv\n",
      "File for 15 created: NOAA_15_20240326181806.csv\n",
      "File for 16 created: NOAA_16_20240326181807.csv\n",
      "File for 17 created: NOAA_17_20240326181808.csv\n",
      "File for 18 created: NOAA_18_20240326181809.csv\n",
      "File for 19 created: NOAA_19_20240326181810.csv\n",
      "File for 20 created: NOAA_20_20240326181811.csv\n",
      "File for 21 created: NOAA_21_20240326181811.csv\n",
      "File for 22 created: NOAA_22_20240326181812.csv\n",
      "File for 23 created: NOAA_23_20240326181814.csv\n",
      "File for 24 created: NOAA_24_20240326181814.csv\n",
      "File for 25 created: NOAA_25_20240326181816.csv\n",
      "File for 26 created: NOAA_26_20240326181817.csv\n",
      "File for 27 created: NOAA_27_20240326181818.csv\n",
      "Success\n"
     ]
    }
   ],
   "source": [
    "for province_id in range(1, 28):\n",
    "    file_already_exists = False  # Прапорець для перевірки, чи вже є файл з ідентифікатором\n",
    "    file_name_to_check = 'NOAA_' + str(province_id) + '_'  # Ім'я файлу для перевірки\n",
    "\n",
    "    # Перевіряємо кожен файл у директорії\n",
    "    for file_name in os.listdir(Dir):\n",
    "        if file_name_to_check in file_name:\n",
    "            file_already_exists = True  # Якщо файл існує, встановлюємо прапорець\n",
    "\n",
    "    if not file_already_exists:\n",
    "        url = Url.format(Indexes[province_id])\n",
    "        wp = urllib.request.urlopen(url)\n",
    "        text = wp.read()\n",
    "        now = datetime.now()\n",
    "        date_and_time_time = now.strftime(\"%Y%m%d%H%M%S\")\n",
    "        file_name = 'NOAA_' + str(province_id) + '_' + date_and_time_time + '.csv'\n",
    "        file_path = os.path.join(Dir, file_name)\n",
    "        with open(file_path, 'wb') as out:\n",
    "            out.write(text)\n",
    "        print('File for ' + str(province_id) + ' created: ' + file_name)\n",
    "    else:\n",
    "        for file_name in os.listdir(Dir):\n",
    "            if file_name.startswith(file_name_to_check):\n",
    "                full_file_path = os.path.join(Dir, file_name)\n",
    "                with open(full_file_path, 'rb') as file:\n",
    "                    existing_text = file.read()\n",
    "                url = Url.format(Indexes[province_id])\n",
    "                wp = urllib.request.urlopen(url)\n",
    "                new_text = wp.read()\n",
    "                if existing_text != new_text:\n",
    "                    with open(full_file_path, 'wb') as file:\n",
    "                        file.write(new_text)\n",
    "                    print('File for ' + str(province_id) + ' updated.')\n",
    "                else:\n",
    "                    print('File for ' + str(province_id) + ' already exists and was not downloaded.')\n",
    "\n",
    "\n",
    "print('Success')"
   ]
  },
  {
   "cell_type": "code",
   "execution_count": 6,
   "metadata": {},
   "outputs": [
    {
     "name": "stdout",
     "output_type": "stream",
     "text": [
      "Successfully read file: NOAA_10_20240326181801.csv\n",
      "Successfully read file: NOAA_11_20240326181802.csv\n",
      "Successfully read file: NOAA_12_20240326181803.csv\n",
      "Successfully read file: NOAA_13_20240326181804.csv\n",
      "Successfully read file: NOAA_14_20240326181805.csv\n",
      "Successfully read file: NOAA_15_20240326181806.csv\n",
      "Successfully read file: NOAA_16_20240326181807.csv\n",
      "Successfully read file: NOAA_17_20240326181808.csv\n",
      "Successfully read file: NOAA_18_20240326181809.csv\n",
      "Successfully read file: NOAA_19_20240326181810.csv\n",
      "Successfully read file: NOAA_1_20240326181753.csv\n",
      "Successfully read file: NOAA_20_20240326181811.csv\n",
      "Successfully read file: NOAA_21_20240326181811.csv\n",
      "Successfully read file: NOAA_22_20240326181812.csv\n",
      "Successfully read file: NOAA_23_20240326181814.csv\n",
      "Successfully read file: NOAA_24_20240326181814.csv\n",
      "Successfully read file: NOAA_25_20240326181816.csv\n",
      "Successfully read file: NOAA_26_20240326181817.csv\n",
      "Successfully read file: NOAA_27_20240326181818.csv\n",
      "Successfully read file: NOAA_2_20240326181754.csv\n",
      "Successfully read file: NOAA_3_20240326181755.csv\n",
      "Successfully read file: NOAA_4_20240326181756.csv\n",
      "Successfully read file: NOAA_5_20240326181757.csv\n",
      "Successfully read file: NOAA_6_20240326181757.csv\n",
      "Successfully read file: NOAA_7_20240326181758.csv\n",
      "Successfully read file: NOAA_8_20240326181759.csv\n",
      "Successfully read file: NOAA_9_20240326181800.csv\n",
      "DataFrame saved to: data.csv\n",
      "       Year  Week    SMN     SMT    VCI    TCI    VHI Indexes\n",
      "0      1982   1.0  0.045  261.12  36.68  41.79  39.23      10\n",
      "1      1982   2.0  0.041  262.61  36.46  35.10  35.78      10\n",
      "2      1982   3.0  0.041  263.82  36.49  30.79  33.64      10\n",
      "3      1982   4.0  0.038  264.71  33.46  28.66  31.06      10\n",
      "4      1982   5.0  0.034  264.76  29.66  30.50  30.08      10\n",
      "...     ...   ...    ...     ...    ...    ...    ...     ...\n",
      "60354  2024   9.0  0.136  275.05  67.01  18.38  42.67       9\n",
      "60355  2024  10.0  0.147  276.99  65.49  19.81  42.62       9\n",
      "60356  2024  11.0  0.152  277.82  60.56  24.80  42.65       9\n",
      "60357  2024  12.0  0.152  278.10  53.02  34.16  43.58       9\n",
      "60398         NaN    NaN     NaN    NaN    NaN    NaN       9\n",
      "\n",
      "[57969 rows x 8 columns]\n"
     ]
    }
   ],
   "source": [
    "def read_files_to_dataframe(directory_path, output_file_path):\n",
    "    # Визначаємо назви колонок та створюємо порожій DataFrame з ними\n",
    "    headers = ['Year', 'Week', 'SMN', 'SMT', 'VCI', 'TCI', 'VHI', 'Indexes', 'empty']\n",
    "    dataframe = pd.DataFrame(columns=headers)\n",
    "\n",
    "    # Проходимо по всіх CSV-файлах у заданій директорії\n",
    "    for filename in os.listdir(directory_path):\n",
    "        if filename.endswith('.csv'):\n",
    "            file_path = os.path.join(directory_path, filename)\n",
    "            try:\n",
    "                # Зчитуємо дані з CSV-файлу, пропускаючи перші два рядки та вказуючи назви колонок\n",
    "                df = pd.read_csv(file_path, skiprows=2, names=headers[:-1])\n",
    "\n",
    "                df['Year'] = df['Year'].str.replace('<tt><pre>', '').str.replace('</pre></tt>', '')\n",
    "\n",
    "                # Визначив індекс регіону з імені файлу та додаємо його до DataFrame\n",
    "                Indexes = int(filename.split('_')[1])\n",
    "                df['Indexes'] = Indexes\n",
    "                # Об'єднуємо DataFrame кожного файлу з загальним DataFrame\n",
    "                dataframe = pd.concat([dataframe, df], ignore_index=True)\n",
    "                print(f'Successfully read file: {filename}')\n",
    "            except pd.errors.ParserError:\n",
    "                print(f'Error reading {filename}: ParserError')\n",
    "    dataframe.drop(dataframe.loc[dataframe['VHI']==-1.0].index, inplace=True)\n",
    "    dataframe = dataframe.drop('empty', axis=1)\n",
    "    dataframe.to_csv(output_file_path, index=False)\n",
    "    print(f'DataFrame saved to: {output_file_path}')\n",
    "    return dataframe\n",
    "result_dataframe = read_files_to_dataframe('CSV_Files', 'data.csv')\n",
    "print(result_dataframe)\n",
    "\n"
   ]
  },
  {
   "cell_type": "markdown",
   "metadata": {},
   "source": [
    "##### Ряд VHI для області за вказаний рік, пошук екстремумів (min та max);"
   ]
  },
  {
   "cell_type": "code",
   "execution_count": 5,
   "metadata": {},
   "outputs": [
    {
     "name": "stdout",
     "output_type": "stream",
     "text": [
      "Min VHI для області з індексом 1 у 1982: 26.95, Max VHI для області з індексом 1 у 1982: 48.77\n",
      "Min VHI для області з індексом 2 у 1982: 19.92, Max VHI для області з індексом 2 у 1982: 59.42\n",
      "Min VHI для області з індексом 3 у 1982: 29.13, Max VHI для області з індексом 3 у 1982: 54.44\n",
      "Min VHI для області з індексом 4 у 1982: 23.55, Max VHI для області з індексом 4 у 1982: 53.88\n",
      "Min VHI для області з індексом 5 у 1982: 22.44, Max VHI для області з індексом 5 у 1982: 50.09\n",
      "Min VHI для області з індексом 6 у 1982: 30.43, Max VHI для області з індексом 6 у 1982: 64.88\n",
      "Min VHI для області з індексом 7 у 1982: 28.77, Max VHI для області з індексом 7 у 1982: 73.75\n",
      "Min VHI для області з індексом 8 у 1982: 26.98, Max VHI для області з індексом 8 у 1982: 55.58\n",
      "Min VHI для області з індексом 9 у 1982: 24.94, Max VHI для області з індексом 9 у 1982: 47.0\n",
      "Min VHI для області з індексом 10 у 1982: 29.46, Max VHI для області з індексом 10 у 1982: 68.51\n",
      "Min VHI для області з індексом 11 у 1982: 26.65, Max VHI для області з індексом 11 у 1982: 62.22\n",
      "Min VHI для області з індексом 12 у 1982: 26.65, Max VHI для області з індексом 12 у 1982: 62.22\n",
      "Min VHI для області з індексом 13 у 1982: 22.82, Max VHI для області з індексом 13 у 1982: 51.83\n",
      "Min VHI для області з індексом 14 у 1982: 31.48, Max VHI для області з індексом 14 у 1982: 63.72\n",
      "Min VHI для області з індексом 15 у 1982: 23.95, Max VHI для області з індексом 15 у 1982: 61.65\n",
      "Min VHI для області з індексом 16 у 1982: 25.96, Max VHI для області з індексом 16 у 1982: 64.92\n",
      "Min VHI для області з індексом 17 у 1982: 28.66, Max VHI для області з індексом 17 у 1982: 84.29\n",
      "Min VHI для області з індексом 18 у 1982: 22.23, Max VHI для області з індексом 18 у 1982: 53.26\n",
      "Min VHI для області з індексом 19 у 1982: 26.93, Max VHI для області з індексом 19 у 1982: 65.64\n",
      "Min VHI для області з індексом 20 у 1982: 23.55, Max VHI для області з індексом 20 у 1982: 53.88\n",
      "Min VHI для області з індексом 21 у 1982: 21.33, Max VHI для області з індексом 21 у 1982: 64.29\n",
      "Min VHI для області з індексом 22 у 1982: 30.48, Max VHI для області з індексом 22 у 1982: 65.2\n",
      "Min VHI для області з індексом 23 у 1982: 28.39, Max VHI для області з індексом 23 у 1982: 74.19\n",
      "Min VHI для області з індексом 24 у 1982: 23.83, Max VHI для області з індексом 24 у 1982: 64.58\n",
      "Min VHI для області з індексом 25 у 1982: 30.98, Max VHI для області з індексом 25 у 1982: 64.27\n",
      "Min VHI для області з індексом 26 у 1982: 24.64, Max VHI для області з індексом 26 у 1982: 53.0\n",
      "Min VHI для області з індексом 27 у 1982: 27.91, Max VHI для області з індексом 27 у 1982: 66.07\n",
      "Min VHI для області з індексом 28 у 1982: 28.39, Max VHI для області з індексом 28 у 1982: 74.19\n"
     ]
    }
   ],
   "source": [
    "def procedure_1(dataframe, Indexes, year):\n",
    "    # Визначає підфрейм за значеннями стовпців Року та Регіону\n",
    "    region_data = dataframe[(dataframe['Indexes'] == Indexes) & (dataframe['Year'] == year)]\n",
    "    min_vhi_value = region_data['VHI'].min()\n",
    "    max_vhi_value = region_data['VHI'].max()\n",
    "    return min_vhi_value, max_vhi_value\n",
    "\n",
    "df = pd.read_csv('all.csv')\n",
    "\n",
    "for i in range(1, 29):\n",
    "    min_vhi, max_vhi = procedure_1(df, Indexes=i, year=1982)\n",
    "    print(f\"Min VHI для області з індексом {i} у 1982: {min_vhi}, Max VHI для області з індексом {i} у 1982: {max_vhi}\")\n"
   ]
  },
  {
   "cell_type": "markdown",
   "metadata": {},
   "source": [
    "##### Ряд VHI за вказаний діапазон років для вказаних областей; виявити роки, протягом яких екстремальні посухи торкнулися більше вказаного відсотка областей по Україні (20% областей - 5 областей з 25);"
   ]
  },
  {
   "cell_type": "code",
   "execution_count": 6,
   "metadata": {},
   "outputs": [
    {
     "name": "stdout",
     "output_type": "stream",
     "text": [
      "For province 3 extreme drought is in years: 1982.0, 1983.0, 1984.0\n",
      "For province 7 extreme drought is in years: 1982.0, 1983.0, 1984.0\n",
      "For province 12 extreme drought is in years: 1982.0, 1983.0, 1984.0\n",
      "For province 18 extreme drought is in years: 1982.0, 1983.0, 1984.0\n",
      "For province 20 extreme drought is in years: 1982.0, 1983.0, 1984.0\n"
     ]
    }
   ],
   "source": [
    "def find_years_with_extreme_drought(df, threshold_percentage, selected_years, selected_provinces):\n",
    "    years_with_extreme_drought = []\n",
    "\n",
    "    # Рахуємо кількість областей з екстремальною посухою для кожного року\n",
    "    for year in df['Year'].unique():\n",
    "        if year not in selected_years:\n",
    "            continue\n",
    "        provinces_with_drought = df[(df['Year'] == year) & (df['VHI'] <= 50)]['Indexes'].unique()\n",
    "        percentage = len(provinces_with_drought) / len(selected_provinces) * 100\n",
    "        if percentage >= threshold_percentage:\n",
    "            years_with_extreme_drought.append(year)\n",
    "\n",
    "    return years_with_extreme_drought\n",
    "\n",
    "def procedure_2(df, threshold_percentage, selected_years, selected_provinces):\n",
    "    for province_n in selected_provinces:\n",
    "        years_with_extreme_drought = find_years_with_extreme_drought(df[df['Indexes'] == province_n], threshold_percentage, selected_years, selected_provinces)\n",
    "        if years_with_extreme_drought:\n",
    "            print(f'For province {province_n} extreme drought is in years: {\", \".join(map(str, years_with_extreme_drought))}')\n",
    "\n",
    "# Задайте відсоток порогу, роки та області\n",
    "threshold_percentage = 20\n",
    "selected_years = [1982, 1983, 1984]  # Приклад обраних років\n",
    "selected_provinces = [3, 7, 12, 18, 20]  # Приклад обраних областей\n",
    "\n",
    "# Виклик функції procedure_2 з заданими параметрами\n",
    "procedure_2(df, threshold_percentage, selected_years, selected_provinces)\n"
   ]
  },
  {
   "cell_type": "code",
   "execution_count": 7,
   "metadata": {},
   "outputs": [
    {
     "name": "stdout",
     "output_type": "stream",
     "text": [
      "For the province 3 extreme drought is in:\n",
      "Years: 1982.0 1983.0 1984.0 1985.0 1986.0 1987.0 1988.0 1989.0 1990.0 1991.0 1992.0 1993.0 1994.0 1995.0 1996.0 1997.0 1998.0 1999.0 2000.0 2001.0 2002.0 2003.0 2004.0 2005.0 2006.0 2007.0 2008.0 2009.0 2010.0 2011.0 2012.0 2013.0 2014.0 2015.0 2016.0 2017.0 2018.0 2019.0 2020.0 2021.0 2022.0 2023.0 2024.0\n"
     ]
    }
   ],
   "source": [
    "def procedure_2(df, province_n):\n",
    "    df_drought = df[(df[\"Indexes\"] == province_n) & (df.VHI <= 50)]\n",
    "    list_from_ds = list(df_drought.Year)\n",
    "    years = set()  # Використовуємо множину для унікальних років\n",
    "    [years.add(str(item)) for item in list_from_ds]  # Додаємо рік до множини\n",
    "    sorted_years = sorted(years, key=lambda x: float(x))  # Сортуємо роки за зростанням\n",
    "    print('For the province ' + str(province_n) + ' extreme drought is in:')\n",
    "    print('Years: ' + ' '.join(sorted_years))\n",
    "\n",
    "procedure_2(df, 3)\n"
   ]
  },
  {
   "cell_type": "markdown",
   "metadata": {},
   "source": [
    "##### Аналогічно для помірних посух"
   ]
  },
  {
   "cell_type": "code",
   "execution_count": 8,
   "metadata": {},
   "outputs": [
    {
     "name": "stdout",
     "output_type": "stream",
     "text": [
      "For province 3 moderate drought is in years: 1982.0, 1983.0\n",
      "For province 7 moderate drought is in years: 1982.0, 1983.0, 2002.0\n",
      "For province 12 moderate drought is in years: 1982.0, 1983.0, 2002.0\n",
      "For province 18 moderate drought is in years: 1982.0, 1983.0\n",
      "For province 20 moderate drought is in years: 1982.0, 1983.0, 2002.0\n"
     ]
    }
   ],
   "source": [
    "def find_years_with_moderate_drought(df, threshold_percentage, selected_years, selected_provinces):\n",
    "    years_with_moderate_drought = []\n",
    "\n",
    "    # Рахуємо кількість областей з помірною посухою для кожного року\n",
    "    for year in df['Year'].unique():\n",
    "        if year not in selected_years:\n",
    "            continue\n",
    "        provinces_with_drought = df[(df['Year'] == year) & (df['VHI'] <= 35) & (df['VHI'] > 15)]['Indexes'].unique()\n",
    "        percentage = len(provinces_with_drought) / len(selected_provinces) * 100\n",
    "        if percentage >= threshold_percentage:\n",
    "            years_with_moderate_drought.append(year)\n",
    "\n",
    "    return years_with_moderate_drought\n",
    "\n",
    "def procedure_moderate_drought(df, threshold_percentage, selected_years, selected_provinces):\n",
    "    for province_n in selected_provinces:\n",
    "        years_with_moderate_drought = find_years_with_moderate_drought(df[df['Indexes'] == province_n], threshold_percentage, selected_years, selected_provinces)\n",
    "        if years_with_moderate_drought:\n",
    "            print(f'For province {province_n} moderate drought is in years: {\", \".join(map(str, years_with_moderate_drought))}')\n",
    "\n",
    "# Задайте відсоток порогу, роки та області\n",
    "threshold_percentage = 20\n",
    "selected_years = [1982, 1983, 2002]  # Приклад обраних років\n",
    "selected_provinces = [3, 7, 12, 18, 20]  # Приклад обраних областей\n",
    "\n",
    "# Виклик функції procedure_moderate_drought з заданими параметрами\n",
    "procedure_moderate_drought(df, threshold_percentage, selected_years, selected_provinces)\n"
   ]
  },
  {
   "cell_type": "code",
   "execution_count": 9,
   "metadata": {},
   "outputs": [
    {
     "name": "stdout",
     "output_type": "stream",
     "text": [
      "For the province 3 moderate drought is in:\n",
      "Years: 1982.0 1983.0 1984.0 1985.0 1986.0 1987.0 1988.0 1989.0 1990.0 1991.0 1992.0 1993.0 1994.0 1995.0 1996.0 1997.0 1998.0 1999.0 2000.0 2001.0 2013.0 2014.0 2018.0 2019.0 2023.0\n"
     ]
    }
   ],
   "source": [
    "def procedure_3(df, province_n):\n",
    "    df_drought = df[(df[\"Indexes\"] == province_n) & (df.VHI <= 35) & (df.VHI > 15)]\n",
    "    list_from_ds = list(df_drought.Year)\n",
    "    years = []\n",
    "    [years.append(str(item)) for item in list_from_ds if str(item) not in years]  # Перетворення на рядок\n",
    "    print('For the province ' + str(province_n) + ' moderate drought is in:')\n",
    "    print('Years: ' + ' '.join(years))\n",
    "\n",
    "procedure_3(df, 3)"
   ]
  }
 ],
 "metadata": {
  "kernelspec": {
   "display_name": "Python 3",
   "language": "python",
   "name": "python3"
  },
  "language_info": {
   "codemirror_mode": {
    "name": "ipython",
    "version": 3
   },
   "file_extension": ".py",
   "mimetype": "text/x-python",
   "name": "python",
   "nbconvert_exporter": "python",
   "pygments_lexer": "ipython3",
   "version": "3.10.11"
  }
 },
 "nbformat": 4,
 "nbformat_minor": 2
}
