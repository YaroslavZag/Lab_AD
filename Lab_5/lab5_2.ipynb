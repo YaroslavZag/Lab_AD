{
 "cells": [
  {
   "cell_type": "markdown",
   "metadata": {},
   "source": [
    "# Засоби підготовки та аналізу даних\n",
    "### ФБ-22 Загородній Ярослав\n",
    "##### Лабораторна робота №5"
   ]
  },
  {
   "cell_type": "markdown",
   "metadata": {},
   "source": [
    "#### 1. Отриману гармоніку з накладеним на неї шумом відфільтруйте за допомогою фільтру на ваш вибір (наприклад scipy.signal.iirfilter, повний список за посиланням: https://docs.scipy.org/doc/scipy/reference/signal.html). Відфільтрована гармоніка має бути максимально близька до «чистої»"
   ]
  },
  {
   "cell_type": "code",
   "execution_count": 46,
   "metadata": {},
   "outputs": [],
   "source": [
    "import numpy as np\n",
    "import matplotlib.pyplot as plt\n",
    "from scipy.signal import butter, filtfilt\n",
    "from ipywidgets import interactive, FloatSlider, Checkbox, VBox"
   ]
  },
  {
   "cell_type": "code",
   "execution_count": 47,
   "metadata": {},
   "outputs": [],
   "source": [
    "# Ініціалізуємо змінну для зберігання шуму\n",
    "noise_cache = None\n",
    "prev_noise_mean = None\n",
    "prev_noise_std = None\n",
    "\n",
    "def generate_harmonic(amplitude, frequency, phase, num_samples=1000):\n",
    "    x = np.linspace(0, 2 * np.pi, num_samples)\n",
    "    y = amplitude * np.sin(frequency * x + phase)\n",
    "    return x, y\n",
    "\n",
    "def add_noise(signal, mean=0, std=0.1):\n",
    "    global noise_cache, prev_noise_mean, prev_noise_std\n",
    "    if noise_cache is None or mean != prev_noise_mean or std != prev_noise_std:\n",
    "        noise_cache = np.random.normal(mean, std, len(signal))\n",
    "        prev_noise_mean = mean\n",
    "        prev_noise_std = std\n",
    "    return signal + noise_cache\n",
    "\n",
    "t = np.linspace(0, 1, 1000)"
   ]
  },
  {
   "cell_type": "markdown",
   "metadata": {},
   "source": [
    "#### Відобразіть відфільтровану «чисту» гармоніку поряд з початковою"
   ]
  },
  {
   "cell_type": "code",
   "execution_count": 51,
   "metadata": {},
   "outputs": [],
   "source": [
    "def butterworth_filter(signal, cutoff_frequency, fs, order=5):\n",
    "    # Визначаємо частоти діапазону фільтрації\n",
    "    nyquist = 0.5 * fs\n",
    "    normal_cutoff = cutoff_frequency / nyquist\n",
    "    \n",
    "    # Створюємо коефіцієнти для фільтру Баттерворта\n",
    "    b, a = butter(order, normal_cutoff, btype='low', analog=False)\n",
    "    \n",
    "    # Застосовуємо фільтр до сигналу\n",
    "    filtered_signal = filtfilt(b, a, signal)\n",
    "    \n",
    "    return filtered_signal\n",
    "\n",
    "def plot_butterworth_filter(amplitude, frequency, phase, noise_mean, noise_std, show_filtered, cutoff_frequency):\n",
    "    x, y = generate_harmonic(amplitude, frequency, phase)\n",
    "    noisy_signal = add_noise(y, mean=noise_mean, std=noise_std)\n",
    "    \n",
    "    fs = 1000  # Припустимо, що частота дискретизації дорівнює 1000 Гц\n",
    "    filtered_signal = butterworth_filter(noisy_signal, cutoff_frequency, fs)\n",
    "    \n",
    "    plt.figure(figsize=(12, 8))\n",
    "    plt.plot(x, noisy_signal, label='Гармоніка з шумом', alpha=0.5)\n",
    "    plt.plot(x, y, label='Гармоніка чиста', alpha=0.5)\n",
    "    if show_filtered:\n",
    "        plt.plot(x, filtered_signal, label=f'Фільтр Баттерворта (cutoff={cutoff_frequency})', linestyle='--')\n",
    "    plt.xlabel('Час')\n",
    "    plt.ylabel('Амплітуда')\n",
    "    plt.title('Гармоніка з шумом та фільтр Баттерворта')\n",
    "    plt.legend()\n",
    "    plt.grid(True)\n",
    "    plt.show()"
   ]
  },
  {
   "cell_type": "markdown",
   "metadata": {},
   "source": [
    "#### Додайте відповідні інтерактивні елементи (чекбокс показу, параметри фільтру тощо) та оновіть існуючі: відфільтрована гармоніка має оновлюватись разом з початковою."
   ]
  },
  {
   "cell_type": "code",
   "execution_count": 52,
   "metadata": {},
   "outputs": [
    {
     "data": {
      "application/vnd.jupyter.widget-view+json": {
       "model_id": "899a2697b4d6422c8b8200280135affc",
       "version_major": 2,
       "version_minor": 0
      },
      "text/plain": [
       "VBox(children=(interactive(children=(FloatSlider(value=1.0, description='Амплітуда:', max=10.0, min=0.1), Floa…"
      ]
     },
     "execution_count": 52,
     "metadata": {},
     "output_type": "execute_result"
    }
   ],
   "source": [
    "# Створення інтерактивних віджетів\n",
    "amplitude_slider = FloatSlider(min=0.1, max=10.0, step=0.1, value=1.0, description='Амплітуда:')\n",
    "frequency_slider = FloatSlider(min=0.1, max=10.0, step=0.1, value=1.0, description='Частота:')\n",
    "phase_slider = FloatSlider(min=0, max=2*np.pi, step=0.1, value=0, description='Фаза:')\n",
    "noise_mean_slider = FloatSlider(min=-1.0, max=1.0, step=0.1, value=0.0, description='Середнє значення шуму:')\n",
    "noise_std_slider = FloatSlider(min=0.1, max=2.0, step=0.1, value=0.1, description='Стандартне відхилення шуму:')\n",
    "show_filtered_checkbox = Checkbox(value=False, description='Показати відфільтровану гармоніку')\n",
    "cutoff_frequency_slider = FloatSlider(min=0.1, max=10.0, step=0.1, value=1.0, description='Частота відсічки фільтра Баттерворта:')\n",
    "\n",
    "\n",
    "# Створення інтерактивного віджету\n",
    "interactive_plot = interactive(plot_butterworth_filter,\n",
    "                               amplitude=amplitude_slider,\n",
    "                               frequency=frequency_slider,\n",
    "                               phase=phase_slider,\n",
    "                               noise_mean=noise_mean_slider,\n",
    "                               noise_std=noise_std_slider,\n",
    "                               show_filtered=show_filtered_checkbox,\n",
    "                               cutoff_frequency=cutoff_frequency_slider)\n",
    "\n",
    "# Відображення віджету\n",
    "VBox([interactive_plot])"
   ]
  }
 ],
 "metadata": {
  "kernelspec": {
   "display_name": "Python 3",
   "language": "python",
   "name": "python3"
  },
  "language_info": {
   "codemirror_mode": {
    "name": "ipython",
    "version": 3
   },
   "file_extension": ".py",
   "mimetype": "text/x-python",
   "name": "python",
   "nbconvert_exporter": "python",
   "pygments_lexer": "ipython3",
   "version": "3.10.11"
  }
 },
 "nbformat": 4,
 "nbformat_minor": 2
}
