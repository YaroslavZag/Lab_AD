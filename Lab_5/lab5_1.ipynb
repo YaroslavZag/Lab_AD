{
 "cells": [
  {
   "cell_type": "markdown",
   "metadata": {},
   "source": [
    "# Засоби підготовки та аналізу даних\n",
    "### ФБ-22 Загородній Ярослав\n",
    "##### Лабораторна робота №5"
   ]
  },
  {
   "cell_type": "markdown",
   "metadata": {},
   "source": [
    "#### Створіть програму, яка дозволить користувачам малювати графік функції гармоніки (функція виду y(t) = A ∗ sin(ω ∗ t + φ)) з накладеним шумом та надавати можливість змінювати параметри гармоніки та шуму за допомогою інтерактивного інтерфейсу, що включає в себе слайдери, кнопки та чекбокси. Зашумлену гармоніку відфільтруйте за допомогою фільтру на вибір, порівняйте результат."
   ]
  },
  {
   "cell_type": "code",
   "execution_count": 1,
   "metadata": {},
   "outputs": [],
   "source": [
    "import numpy as np\n",
    "import matplotlib.pyplot as plt\n",
    "from ipywidgets import interactive, FloatSlider, Checkbox, Button"
   ]
  },
  {
   "cell_type": "code",
   "execution_count": 3,
   "metadata": {},
   "outputs": [],
   "source": [
    "# Функція фільтру простого ковзного середнього\n",
    "def simple_moving_average(data, window_size):\n",
    "    filtered_data = []\n",
    "    for i in range(len(data)):\n",
    "        if i < window_size:\n",
    "            filtered_data.append(np.mean(data[:i+1]))\n",
    "        else:\n",
    "            filtered_data.append(np.mean(data[i-window_size+1:i+1]))\n",
    "    return np.array(filtered_data)\n",
    "\n",
    "# Оновлена функція гармоніки з шумом та фільтрацією\n",
    "def harmonic_with_noise_filtered(t, amplitude, frequency, phase, noise_mean, noise_covariance, show_noise, window_size):\n",
    "    signal = amplitude * np.sin(2 * np.pi * frequency * t + phase)\n",
    "    noise = np.random.normal(noise_mean, np.sqrt(noise_covariance), len(t))\n",
    "    if show_noise:\n",
    "        noisy_signal = signal + noise\n",
    "        return simple_moving_average(noisy_signal, window_size)\n",
    "    else:\n",
    "        return simple_moving_average(signal, window_size)\n",
    "\n",
    "# Генерація часових значень\n",
    "t = np.linspace(0, 10, 1000)\n",
    "\n",
    "# Функція для побудови графіку з параметрами\n",
    "def plot_harmonic_with_noise(amplitude, frequency, phase, noise_mean, noise_covariance, show_noise, window_size):\n",
    "    plt.plot(t, harmonic_with_noise_filtered(t, amplitude, frequency, phase, noise_mean, noise_covariance, show_noise, int(window_size)))\n",
    "    plt.title('Harmonic with Noise')\n",
    "    plt.xlabel('Time')\n",
    "    plt.ylabel('Amplitude')\n",
    "    plt.grid(True)\n",
    "\n",
    "# Функція для відновлення початкових значень\n",
    "def reset_values(button):\n",
    "    amplitude_slider.value = 1.0\n",
    "    frequency_slider.value = 1.0\n",
    "    phase_slider.value = 0.0\n",
    "    noise_mean_slider.value = 0.0\n",
    "    noise_covariance_slider.value = 0.1\n",
    "    window_size_slider.value = 1\n",
    "    show_noise_checkbox.value = True\n",
    "\n",
    "\n"
   ]
  },
  {
   "cell_type": "code",
   "execution_count": 4,
   "metadata": {},
   "outputs": [
    {
     "data": {
      "application/vnd.jupyter.widget-view+json": {
       "model_id": "fe1b7df53df643619481d1c8b7ce58f7",
       "version_major": 2,
       "version_minor": 0
      },
      "text/plain": [
       "interactive(children=(FloatSlider(value=1.0, description='Amplitude:', max=10.0, min=0.1), FloatSlider(value=1…"
      ]
     },
     "metadata": {},
     "output_type": "display_data"
    },
    {
     "data": {
      "application/vnd.jupyter.widget-view+json": {
       "model_id": "a2284afa2e354778abcf0dfcd7b49f2d",
       "version_major": 2,
       "version_minor": 0
      },
      "text/plain": [
       "Button(description='Reset', style=ButtonStyle())"
      ]
     },
     "metadata": {},
     "output_type": "display_data"
    }
   ],
   "source": [
    "# Створення віджетів\n",
    "amplitude_slider = FloatSlider(min=0.1, max=10.0, step=0.1, value=1.0, description='Amplitude:')\n",
    "frequency_slider = FloatSlider(min=0.1, max=10.0, step=0.1, value=1.0, description='Frequency:')\n",
    "phase_slider = FloatSlider(min=0, max=2*np.pi, step=0.1, value=0, description='Phase:')\n",
    "noise_mean_slider = FloatSlider(min=-1.0, max=1.0, step=0.1, value=0.0, description='Noise Mean:')\n",
    "noise_covariance_slider = FloatSlider(min=0.0, max=1.0, step=0.01, value=0.1, description='Noise Covariance:')\n",
    "show_noise_checkbox = Checkbox(value=True, description='Show Noise:')\n",
    "window_size_slider = FloatSlider(min=1, max=100, step=1, value=1, description='Window Size:')\n",
    "reset_button = Button(description=\"Reset\")\n",
    "\n",
    "# Створення інтерактивної віджетної області\n",
    "interactive_plot = interactive(plot_harmonic_with_noise,\n",
    "                                amplitude=amplitude_slider,\n",
    "                                frequency=frequency_slider,\n",
    "                                phase=phase_slider,\n",
    "                                noise_mean=noise_mean_slider,\n",
    "                                noise_covariance=noise_covariance_slider,\n",
    "                                show_noise=show_noise_checkbox,\n",
    "                                window_size=window_size_slider)\n",
    "\n",
    "# Додавання кнопки \"Reset\"\n",
    "reset_button.on_click(reset_values)\n",
    "\n",
    "# Відображення віджетної області\n",
    "display(interactive_plot)\n",
    "display(reset_button)"
   ]
  }
 ],
 "metadata": {
  "kernelspec": {
   "display_name": "Python 3",
   "language": "python",
   "name": "python3"
  },
  "language_info": {
   "codemirror_mode": {
    "name": "ipython",
    "version": 3
   },
   "file_extension": ".py",
   "mimetype": "text/x-python",
   "name": "python",
   "nbconvert_exporter": "python",
   "pygments_lexer": "ipython3",
   "version": "3.10.11"
  }
 },
 "nbformat": 4,
 "nbformat_minor": 2
}
