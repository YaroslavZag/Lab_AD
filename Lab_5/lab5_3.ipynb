{
 "cells": [
  {
   "cell_type": "markdown",
   "metadata": {},
   "source": [
    "# Засоби підготовки та аналізу даних\n",
    "### ФБ-22 Загородній Ярослав\n",
    "##### Лабораторна робота №5"
   ]
  },
  {
   "cell_type": "markdown",
   "metadata": {},
   "source": [
    "#### Реалізуйте завдання 1 за допомогою сучасних графічних бібліотек на ваш вибір: Plotly, Bokeh, Altair тощо. Додайте декілька вікон для візуалізації замість одного, спадне меню (drop-down menu) та інші інтерактивні елементи на власний розсуд."
   ]
  },
  {
   "cell_type": "code",
   "execution_count": 31,
   "metadata": {},
   "outputs": [],
   "source": [
    "import numpy as np\n",
    "import plotly.graph_objs as go\n",
    "import dash\n",
    "from dash import dcc, html, Input, Output, State"
   ]
  },
  {
   "cell_type": "code",
   "execution_count": 46,
   "metadata": {},
   "outputs": [],
   "source": [
    "# Задаємо початкові значення параметрів гармоніки та шуму\n",
    "A_default = 1.0\n",
    "omega_default = 1.0\n",
    "phi_default = 0.0\n",
    "noise_level_default = 0.1\n",
    "\n",
    "# Створюємо функцію для генерації даних гармоніки з накладеним шумом\n",
    "def generate_data(A, omega, phi, noise_level):\n",
    "    t = np.linspace(0, 10, 1000)\n",
    "    y_clean = A * np.sin(omega * t + phi)\n",
    "    noise = np.random.normal(0, noise_level, t.shape)\n",
    "    y_noisy = y_clean + noise\n",
    "    return t, y_noisy\n",
    "\n",
    "# Створюємо функцію для оновлення графіку при зміні параметрів\n",
    "def update_graph(A, omega, phi, noise_level):\n",
    "    t, y = generate_data(A, omega, phi, noise_level)\n",
    "    trace = go.Scatter(x=t, y=y, mode='lines', name='Noisy Harmonic Function')\n",
    "    layout = go.Layout(title='Noisy Harmonic Function',\n",
    "                       xaxis=dict(title='Time'),\n",
    "                       yaxis=dict(title='Amplitude'))\n",
    "    return {'data': [trace], 'layout': layout}\n",
    "\n"
   ]
  },
  {
   "cell_type": "code",
   "execution_count": 47,
   "metadata": {},
   "outputs": [
    {
     "data": {
      "text/html": [
       "\n",
       "        <iframe\n",
       "            width=\"100%\"\n",
       "            height=\"650\"\n",
       "            src=\"http://127.0.0.1:8050/\"\n",
       "            frameborder=\"0\"\n",
       "            allowfullscreen\n",
       "            \n",
       "        ></iframe>\n",
       "        "
      ],
      "text/plain": [
       "<IPython.lib.display.IFrame at 0x2bff5facc70>"
      ]
     },
     "metadata": {},
     "output_type": "display_data"
    }
   ],
   "source": [
    "# Ініціалізуємо Dash додаток\n",
    "app = dash.Dash(__name__)\n",
    "\n",
    "# Створюємо макет інтерфейсу зі слайдерами, кнопкою та графіком\n",
    "app.layout = html.Div([\n",
    "    html.H1(style={'color': 'white'}, children=[\"Interactive Harmonic Function Plot\"]),\n",
    "    dcc.Graph(id='harmonic-graph', style={'width': '80%', 'height': '500px'}),\n",
    "    html.Label(style={'color': 'white'}, children=[\"Amplitude (A):\"]),\n",
    "    dcc.Slider(id='amplitude-slider', min=0, max=2, step=0.1, value=A_default),\n",
    "    html.Label(style={'color': 'white'}, children=[\"Angular Frequency (omega):\"]),\n",
    "    dcc.Slider(id='omega-slider', min=0, max=2, step=0.1, value=omega_default),\n",
    "    html.Label(style={'color': 'white'}, children=[\"Phase (phi):\"]),\n",
    "    dcc.Slider(id='phi-slider', min=0, max=2*np.pi, step=0.1, value=phi_default),\n",
    "    html.Label(style={'color': 'white'}, children=[\"Noise Level:\"]),\n",
    "    dcc.Slider(id='noise-slider', min=0, max=1, step=0.1, value=noise_level_default),\n",
    "    html.Button('Reset', id='reset-button', n_clicks=0),\n",
    "    dcc.Checklist(\n",
    "        id='noise-checkbox',\n",
    "        options=[{'label': 'Виключити шум', 'value': 'disable_noise'}],\n",
    "        value=[],\n",
    "        style={'color': 'white'}\n",
    "    )\n",
    "])\n",
    "\n",
    "# Підключаємо зв'язки між інтерфейсом та функціоналом\n",
    "@app.callback(\n",
    "    Output('harmonic-graph', 'figure'),\n",
    "    [Input('amplitude-slider', 'value'),\n",
    "     Input('omega-slider', 'value'),\n",
    "     Input('phi-slider', 'value'),\n",
    "     Input('noise-slider', 'value'),\n",
    "     Input('reset-button', 'n_clicks'),\n",
    "     Input('noise-checkbox', 'value')]\n",
    ")\n",
    "def update_figure(A, omega, phi, noise_level, n_clicks, noise_checkbox):\n",
    "    if n_clicks:\n",
    "        return update_graph(A_default, omega_default, phi_default, noise_level_default)\n",
    "    elif 'disable_noise' in noise_checkbox:\n",
    "        return update_graph(A, omega, phi, 0)  # Вимкнути шум, якщо вибрано в чекбоксі\n",
    "    else:\n",
    "        return update_graph(A, omega, phi, noise_level)\n",
    "\n",
    "# Функція для скидання значень слайдерів до початкових\n",
    "@app.callback(\n",
    "    [Output('amplitude-slider', 'value'),\n",
    "     Output('omega-slider', 'value'),\n",
    "     Output('phi-slider', 'value'),\n",
    "     Output('noise-slider', 'value'),\n",
    "     Output('noise-checkbox', 'value')],\n",
    "    [Input('reset-button', 'n_clicks')]\n",
    ")\n",
    "def reset_sliders(n_clicks):\n",
    "    if n_clicks:\n",
    "        return A_default, omega_default, phi_default, noise_level_default, []\n",
    "    else:\n",
    "        raise dash.exceptions.PreventUpdate\n",
    "\n",
    "# Запускаємо додаток\n",
    "if __name__ == '__main__':\n",
    "    app.run_server(debug=True)\n"
   ]
  },
  {
   "cell_type": "markdown",
   "metadata": {},
   "source": [
    "#### Реалізуйте ваш власний фільтр, використовуючи виключно Python (а також numpy, але виключно для операцій з масивами numpy.ndarray). Застосуйте фільтр"
   ]
  },
  {
   "cell_type": "code",
   "execution_count": 48,
   "metadata": {},
   "outputs": [],
   "source": [
    "def apply_custom_filter(y_noisy, threshold=0.5):\n",
    "    y_filtered = np.where(np.abs(y_noisy) > threshold, y_noisy, 0)\n",
    "    return y_filtered"
   ]
  },
  {
   "cell_type": "code",
   "execution_count": 49,
   "metadata": {},
   "outputs": [],
   "source": [
    "# Створюємо функцію для оновлення графіку при зміні параметрів\n",
    "def update_graph(A, omega, phi, noise_level, apply_filter=False):  # Додано аргумент apply_filter зі значенням за замовчуванням\n",
    "    t, y = generate_data(A, omega, phi, noise_level)\n",
    "    if apply_filter:  # Виконуємо фільтрацію, якщо apply_filter == True\n",
    "        y = apply_custom_filter(y)\n",
    "    trace = go.Scatter(x=t, y=y, mode='lines', name='Noisy Harmonic Function')\n",
    "    layout = go.Layout(title='Noisy Harmonic Function',\n",
    "                       xaxis=dict(title='Time'),\n",
    "                       yaxis=dict(title='Amplitude'))\n",
    "    return {'data': [trace], 'layout': layout}"
   ]
  },
  {
   "cell_type": "code",
   "execution_count": 50,
   "metadata": {},
   "outputs": [
    {
     "data": {
      "text/html": [
       "\n",
       "        <iframe\n",
       "            width=\"100%\"\n",
       "            height=\"650\"\n",
       "            src=\"http://127.0.0.1:8050/\"\n",
       "            frameborder=\"0\"\n",
       "            allowfullscreen\n",
       "            \n",
       "        ></iframe>\n",
       "        "
      ],
      "text/plain": [
       "<IPython.lib.display.IFrame at 0x2bff5fad1b0>"
      ]
     },
     "metadata": {},
     "output_type": "display_data"
    }
   ],
   "source": [
    "# Ініціалізуємо Dash додаток\n",
    "app = dash.Dash(__name__)\n",
    "\n",
    "\n",
    "# Створюємо макет інтерфейсу зі слайдерами, кнопкою та графіком\n",
    "app.layout = html.Div([\n",
    "    html.H1(style={'color': 'white'}, children=[\"Interactive Harmonic Function Plot\"]),\n",
    "    dcc.Graph(id='harmonic-graph', style={'width': '80%', 'height': '500px'}),\n",
    "    html.Label(style={'color': 'white'}, children=[\"Amplitude (A):\"]),\n",
    "    dcc.Slider(id='amplitude-slider', min=0, max=2, step=0.1, value=A_default),\n",
    "    html.Label(style={'color': 'white'}, children=[\"Angular Frequency (omega):\"]),\n",
    "    dcc.Slider(id='omega-slider', min=0, max=2, step=0.1, value=omega_default),\n",
    "    html.Label(style={'color': 'white'}, children=[\"Phase (phi):\"]),\n",
    "    dcc.Slider(id='phi-slider', min=0, max=2*np.pi, step=0.1, value=phi_default),\n",
    "    html.Label(style={'color': 'white'}, children=[\"Noise Level:\"]),\n",
    "    dcc.Slider(id='noise-slider', min=0, max=1, step=0.1, value=noise_level_default),\n",
    "    html.Button('Reset', id='reset-button', n_clicks=0),\n",
    "    dcc.Checklist(\n",
    "        id='noise-checkbox',\n",
    "        options=[{'label': 'Виключити шум', 'value': 'disable_noise'}],\n",
    "        value=[],\n",
    "        style={'color': 'white'}\n",
    "    ),\n",
    "    dcc.Checklist(\n",
    "        id='filter-checkbox',\n",
    "        options=[{'label': 'Використовувати фільтр', 'value': 'apply_filter'}],\n",
    "        value=[],\n",
    "        style={'color': 'white'}\n",
    "    )\n",
    "])\n",
    "\n",
    "@app.callback(\n",
    "    Output('harmonic-graph', 'figure'),\n",
    "    [Input('amplitude-slider', 'value'),\n",
    "     Input('omega-slider', 'value'),\n",
    "     Input('phi-slider', 'value'),\n",
    "     Input('noise-slider', 'value'),\n",
    "     Input('reset-button', 'n_clicks'),\n",
    "     Input('noise-checkbox', 'value'),\n",
    "     Input('filter-checkbox', 'value')]  # Додано вхід для чекбокса фільтрації\n",
    ")\n",
    "def update_figure(A, omega, phi, noise_level, n_clicks, noise_checkbox, filter_checkbox):\n",
    "    if n_clicks:\n",
    "        return update_graph(A_default, omega_default, phi_default, noise_level_default)\n",
    "    elif 'disable_noise' in noise_checkbox:\n",
    "        return update_graph(A, omega, phi, 0)  # Вимкнути шум, якщо вибрано в чекбоксі\n",
    "    else:\n",
    "        apply_filter = True if 'apply_filter' in filter_checkbox else False  # Визначаємо, чи використовувати фільтр\n",
    "        return update_graph(A, omega, phi, noise_level, apply_filter)  # Передаємо параметр apply_filter у функцію оновлення графіку\n",
    "# Функція для скидання значень слайдерів до початкових\n",
    "@app.callback(\n",
    "    [Output('amplitude-slider', 'value'),\n",
    "     Output('omega-slider', 'value'),\n",
    "     Output('phi-slider', 'value'),\n",
    "     Output('noise-slider', 'value'),\n",
    "     Output('noise-checkbox', 'value')],\n",
    "    [Input('reset-button', 'n_clicks')]\n",
    ")\n",
    "def reset_sliders(n_clicks):\n",
    "    if n_clicks:\n",
    "        return A_default, omega_default, phi_default, noise_level_default, []\n",
    "    else:\n",
    "        raise dash.exceptions.PreventUpdate\n",
    "\n",
    "# Запускаємо додаток\n",
    "if __name__ == '__main__':\n",
    "    app.run_server(debug=True)"
   ]
  }
 ],
 "metadata": {
  "kernelspec": {
   "display_name": "Python 3",
   "language": "python",
   "name": "python3"
  },
  "language_info": {
   "codemirror_mode": {
    "name": "ipython",
    "version": 3
   },
   "file_extension": ".py",
   "mimetype": "text/x-python",
   "name": "python",
   "nbconvert_exporter": "python",
   "pygments_lexer": "ipython3",
   "version": "3.10.11"
  }
 },
 "nbformat": 4,
 "nbformat_minor": 2
}
